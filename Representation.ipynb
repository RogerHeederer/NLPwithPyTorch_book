{
  "nbformat": 4,
  "nbformat_minor": 0,
  "metadata": {
    "colab": {
      "name": "Representation.ipynb",
      "provenance": [],
      "authorship_tag": "ABX9TyM+HgDgOqS2FW2fsgPhPNzx",
      "include_colab_link": true
    },
    "kernelspec": {
      "name": "python3",
      "display_name": "Python 3"
    }
  },
  "cells": [
    {
      "cell_type": "markdown",
      "metadata": {
        "id": "view-in-github",
        "colab_type": "text"
      },
      "source": [
        "<a href=\"https://colab.research.google.com/github/RogerHeederer/NLPwithPyTorch_book/blob/main/Representation.ipynb\" target=\"_parent\"><img src=\"https://colab.research.google.com/assets/colab-badge.svg\" alt=\"Open In Colab\"/></a>"
      ]
    },
    {
      "cell_type": "markdown",
      "metadata": {
        "id": "Yc376wBvhoTW"
      },
      "source": [
        "##One Hot Representation"
      ]
    },
    {
      "cell_type": "code",
      "metadata": {
        "id": "1PguajjHhFMR"
      },
      "source": [
        "from sklearn.feature_extraction.text import CountVectorizer\n",
        "import seaborn as sns"
      ],
      "execution_count": 9,
      "outputs": []
    },
    {
      "cell_type": "code",
      "metadata": {
        "colab": {
          "base_uri": "https://localhost:8080/"
        },
        "id": "-ImnkLFNj-5f",
        "outputId": "fbbc097e-fe31-437c-b9b3-896a2b953e67"
      },
      "source": [
        "import nltk\n",
        "nltk.download('punkt')\n",
        "from nltk.tokenize import word_tokenize, sent_tokenize"
      ],
      "execution_count": 17,
      "outputs": [
        {
          "output_type": "stream",
          "text": [
            "[nltk_data] Downloading package punkt to /root/nltk_data...\n",
            "[nltk_data]   Unzipping tokenizers/punkt.zip.\n"
          ],
          "name": "stdout"
        }
      ]
    },
    {
      "cell_type": "code",
      "metadata": {
        "id": "l6DCKaODhNbF"
      },
      "source": [
        "corpus = ['Time flies flies like an arrow.',\n",
        "          'Fruit flies like a banana.']"
      ],
      "execution_count": 98,
      "outputs": []
    },
    {
      "cell_type": "code",
      "metadata": {
        "colab": {
          "base_uri": "https://localhost:8080/"
        },
        "id": "B_4806PgtgST",
        "outputId": "7a3729d9-b443-4288-9ee7-d6867875cada"
      },
      "source": [
        "vectorizer = CountVectorizer(binary=True)\n",
        "one_hot = vectorizer.fit_transform(corpus).toarray()\n",
        "print(one_hot)"
      ],
      "execution_count": 99,
      "outputs": [
        {
          "output_type": "stream",
          "text": [
            "[[1 1 0 1 0 1 1]\n",
            " [0 0 1 1 1 1 0]]\n"
          ],
          "name": "stdout"
        }
      ]
    },
    {
      "cell_type": "code",
      "metadata": {
        "colab": {
          "base_uri": "https://localhost:8080/"
        },
        "id": "HXro5wRdxmTO",
        "outputId": "a8a5b227-4f90-4fdb-97ef-beb728c6da6f"
      },
      "source": [
        "voca = vectorizer.get_feature_names()\n",
        "print(voca)"
      ],
      "execution_count": 101,
      "outputs": [
        {
          "output_type": "stream",
          "text": [
            "['an', 'arrow', 'banana', 'flies', 'fruit', 'like', 'time']\n"
          ],
          "name": "stdout"
        }
      ]
    },
    {
      "cell_type": "code",
      "metadata": {
        "colab": {
          "base_uri": "https://localhost:8080/"
        },
        "id": "tor_rc9-t2QQ",
        "outputId": "0ddc8eaf-e063-4f72-fa42-6142459ed94f"
      },
      "source": [
        "print(vectorizer.vocabulary_)\n",
        "print(vectorizer.vocabulary_.items())"
      ],
      "execution_count": 102,
      "outputs": [
        {
          "output_type": "stream",
          "text": [
            "{'time': 6, 'flies': 3, 'like': 5, 'an': 0, 'arrow': 1, 'fruit': 4, 'banana': 2}\n",
            "dict_items([('time', 6), ('flies', 3), ('like', 5), ('an', 0), ('arrow', 1), ('fruit', 4), ('banana', 2)])\n"
          ],
          "name": "stdout"
        }
      ]
    },
    {
      "cell_type": "code",
      "metadata": {
        "colab": {
          "base_uri": "https://localhost:8080/",
          "height": 282
        },
        "id": "mmYhHz0rvCPw",
        "outputId": "e61796c1-efe7-4a72-e2e8-89c3c6048931"
      },
      "source": [
        "sns.heatmap(one_hot, annot=True, cbar=False, xticklabels = voca, yticklabels=['Sentence 1', 'Sentence2'])"
      ],
      "execution_count": 103,
      "outputs": [
        {
          "output_type": "execute_result",
          "data": {
            "text/plain": [
              "<matplotlib.axes._subplots.AxesSubplot at 0x7f049c632b00>"
            ]
          },
          "metadata": {
            "tags": []
          },
          "execution_count": 103
        },
        {
          "output_type": "display_data",
          "data": {
            "image/png": "[encoded data removed]",
            "text/plain": [
              "<Figure size 432x288 with 1 Axes>"
            ]
          },
          "metadata": {
            "tags": [],
            "needs_background": "light"
          }
        }
      ]
    },
    {
      "cell_type": "markdown",
      "metadata": {
        "id": "HpEN6_Jl4XwV"
      },
      "source": [
        "## TF-IDF Representation"
      ]
    },
    {
      "cell_type": "code",
      "metadata": {
        "id": "hdzAQqzah3O7"
      },
      "source": [
        "from sklearn.feature_extraction.text import TfidfVectorizer\n",
        "import seaborn as sns\n",
        "\n",
        "tfidf_vectorizer = TfidfVectorizer()\n",
        "tfidf = tfidf_vectorizer.fit_transform(corpus).toarray()"
      ],
      "execution_count": 104,
      "outputs": []
    },
    {
      "cell_type": "code",
      "metadata": {
        "colab": {
          "base_uri": "https://localhost:8080/"
        },
        "id": "hQjGrI9W4z_x",
        "outputId": "f39f5057-9abb-4ad0-f1f6-8ed4b4387c4f"
      },
      "source": [
        "print(tfidf)"
      ],
      "execution_count": 105,
      "outputs": [
        {
          "output_type": "stream",
          "text": [
            "[[0.42519636 0.42519636 0.         0.60506143 0.         0.30253071\n",
            "  0.42519636]\n",
            " [0.         0.         0.57615236 0.40993715 0.57615236 0.40993715\n",
            "  0.        ]]\n"
          ],
          "name": "stdout"
        }
      ]
    },
    {
      "cell_type": "code",
      "metadata": {
        "colab": {
          "base_uri": "https://localhost:8080/",
          "height": 282
        },
        "id": "zX4EcbCU4085",
        "outputId": "ef23ec08-e39c-463d-b921-4d1c2b9826b5"
      },
      "source": [
        "sns.heatmap(tfidf, annot=True, cbar=False, xticklabels=voca, yticklabels = ['Sentence 1', 'Sentence 2'])"
      ],
      "execution_count": 106,
      "outputs": [
        {
          "output_type": "execute_result",
          "data": {
            "text/plain": [
              "<matplotlib.axes._subplots.AxesSubplot at 0x7f049c59c160>"
            ]
          },
          "metadata": {
            "tags": []
          },
          "execution_count": 106
        },
        {
          "output_type": "display_data",
          "data": {
            "image/png": "[encoded data removed]",
            "text/plain": [
              "<Figure size 432x288 with 1 Axes>"
            ]
          },
          "metadata": {
            "tags": [],
            "needs_background": "light"
          }
        }
      ]
    },
    {
      "cell_type": "code",
      "metadata": {
        "id": "ZNRpdD1C5Aez"
      },
      "source": [
        ""
      ],
      "execution_count": null,
      "outputs": []
    }
  ]
}