{
  "nbformat": 4,
  "nbformat_minor": 0,
  "metadata": {
    "colab": {
      "name": "SentimentClassfi_Fullyelp.ipynb",
      "provenance": [],
      "authorship_tag": "ABX9TyO/iQaORF5jgY/VBWsBBWBB",
      "include_colab_link": true
    },
    "kernelspec": {
      "name": "python3",
      "display_name": "Python 3"
    }
  },
  "cells": [
    {
      "cell_type": "markdown",
      "metadata": {
        "id": "view-in-github",
        "colab_type": "text"
      },
      "source": [
        "<a href=\"https://colab.research.google.com/github/RogerHeederer/NLPwithPyTorch_book/blob/main/SentimentClassfi_Fullyelp.ipynb\" target=\"_parent\"><img src=\"https://colab.research.google.com/assets/colab-badge.svg\" alt=\"Open In Colab\"/></a>"
      ]
    },
    {
      "cell_type": "markdown",
      "metadata": {
        "id": "bqJGeiV3iCLu"
      },
      "source": [
        "##Minimally clean the data and derive final dataset"
      ]
    },
    {
      "cell_type": "code",
      "metadata": {
        "colab": {
          "base_uri": "https://localhost:8080/"
        },
        "id": "HCoaoUA2kcOl",
        "outputId": "807afb1a-623e-4936-e92b-6dd64d2786d0"
      },
      "source": [
        "from google.colab import drive\n",
        "drive.mount('/content/drive', force_remount=True)"
      ],
      "execution_count": 2,
      "outputs": [
        {
          "output_type": "stream",
          "text": [
            "Mounted at /content/drive\n"
          ],
          "name": "stdout"
        }
      ]
    },
    {
      "cell_type": "code",
      "metadata": {
        "id": "UlH3f4dXimeW"
      },
      "source": [
        "import collections\n",
        "import numpy as np\n",
        "import pandas as pd\n",
        "import re\n",
        "\n",
        "from argparse import Namespace"
      ],
      "execution_count": 3,
      "outputs": []
    },
    {
      "cell_type": "code",
      "metadata": {
        "id": "XChEr5iljH76"
      },
      "source": [
        "args = Namespace(\n",
        "    raw_train_dataset_csv = \"/content/drive/MyDrive/RogerHeederer/NLPwithPytorch_B/data/dataset/yelp/raw_train.csv\",\n",
        "    raw_test_dataset_csv = \"/content/drive/MyDrive/RogerHeederer/NLPwithPytorch_B/data/dataset/yelp/raw_test.csv\",\n",
        "    proportion_subset_of_train = 0.1,\n",
        "    train_proportion = 0.7,\n",
        "    val_proportion=0.15,\n",
        "    test_proportion=0.15,\n",
        "    output_munged_csv=\"/content/drive/MyDrive/RogerHeederer/NLPwithPytorch_B/data/dataset/yelp/reviews_with_splits_full.csv\",\n",
        "    seed=1337\n",
        ")"
      ],
      "execution_count": 4,
      "outputs": []
    },
    {
      "cell_type": "markdown",
      "metadata": {
        "id": "8C2mzBFm249V"
      },
      "source": [
        "데이터 성격 파악 및 조작법"
      ]
    },
    {
      "cell_type": "code",
      "metadata": {
        "id": "X--rkxBNkApr"
      },
      "source": [
        "train_reviews = pd.read_csv(args.raw_train_dataset_csv, header=None, names=['rating', 'review'])"
      ],
      "execution_count": 5,
      "outputs": []
    },
    {
      "cell_type": "code",
      "metadata": {
        "colab": {
          "base_uri": "https://localhost:8080/",
          "height": 328
        },
        "id": "7AiO1j-PkT7l",
        "outputId": "bcf7e825-58b3-4202-cff1-1d772a5194bf"
      },
      "source": [
        "train_reviews[1:10]"
      ],
      "execution_count": 6,
      "outputs": [
        {
          "output_type": "execute_result",
          "data": {
            "text/html": [
              "<div>\n",
              "<style scoped>\n",
              "    .dataframe tbody tr th:only-of-type {\n",
              "        vertical-align: middle;\n",
              "    }\n",
              "\n",
              "    .dataframe tbody tr th {\n",
              "        vertical-align: top;\n",
              "    }\n",
              "\n",
              "    .dataframe thead th {\n",
              "        text-align: right;\n",
              "    }\n",
              "</style>\n",
              "<table border=\"1\" class=\"dataframe\">\n",
              "  <thead>\n",
              "    <tr style=\"text-align: right;\">\n",
              "      <th></th>\n",
              "      <th>rating</th>\n",
              "      <th>review</th>\n",
              "    </tr>\n",
              "  </thead>\n",
              "  <tbody>\n",
              "    <tr>\n",
              "      <th>1</th>\n",
              "      <td>2</td>\n",
              "      <td>Been going to Dr. Goldberg for over 10 years. ...</td>\n",
              "    </tr>\n",
              "    <tr>\n",
              "      <th>2</th>\n",
              "      <td>1</td>\n",
              "      <td>I don't know what Dr. Goldberg was like before...</td>\n",
              "    </tr>\n",
              "    <tr>\n",
              "      <th>3</th>\n",
              "      <td>1</td>\n",
              "      <td>I'm writing this review to give you a heads up...</td>\n",
              "    </tr>\n",
              "    <tr>\n",
              "      <th>4</th>\n",
              "      <td>2</td>\n",
              "      <td>All the food is great here. But the best thing...</td>\n",
              "    </tr>\n",
              "    <tr>\n",
              "      <th>5</th>\n",
              "      <td>1</td>\n",
              "      <td>Wing sauce is like water. Pretty much a lot of...</td>\n",
              "    </tr>\n",
              "    <tr>\n",
              "      <th>6</th>\n",
              "      <td>1</td>\n",
              "      <td>Owning a driving range inside the city limits ...</td>\n",
              "    </tr>\n",
              "    <tr>\n",
              "      <th>7</th>\n",
              "      <td>1</td>\n",
              "      <td>This place is absolute garbage...  Half of the...</td>\n",
              "    </tr>\n",
              "    <tr>\n",
              "      <th>8</th>\n",
              "      <td>2</td>\n",
              "      <td>Before I finally made it over to this range I ...</td>\n",
              "    </tr>\n",
              "    <tr>\n",
              "      <th>9</th>\n",
              "      <td>2</td>\n",
              "      <td>I drove by yesterday to get a sneak peak.  It ...</td>\n",
              "    </tr>\n",
              "  </tbody>\n",
              "</table>\n",
              "</div>"
            ],
            "text/plain": [
              "   rating                                             review\n",
              "1       2  Been going to Dr. Goldberg for over 10 years. ...\n",
              "2       1  I don't know what Dr. Goldberg was like before...\n",
              "3       1  I'm writing this review to give you a heads up...\n",
              "4       2  All the food is great here. But the best thing...\n",
              "5       1  Wing sauce is like water. Pretty much a lot of...\n",
              "6       1  Owning a driving range inside the city limits ...\n",
              "7       1  This place is absolute garbage...  Half of the...\n",
              "8       2  Before I finally made it over to this range I ...\n",
              "9       2  I drove by yesterday to get a sneak peak.  It ..."
            ]
          },
          "metadata": {
            "tags": []
          },
          "execution_count": 6
        }
      ]
    },
    {
      "cell_type": "code",
      "metadata": {
        "id": "dDQs5SNZZLVD"
      },
      "source": [
        ""
      ],
      "execution_count": 39,
      "outputs": []
    },
    {
      "cell_type": "code",
      "metadata": {
        "colab": {
          "base_uri": "https://localhost:8080/"
        },
        "id": "fpcK5PkOZN3H",
        "outputId": "ff1a18ce-49e7-445c-8877-61b5238fae96"
      },
      "source": [
        ""
      ],
      "execution_count": 47,
      "outputs": [
        {
          "output_type": "stream",
          "text": [
            "/usr/local/lib/python3.6/dist-packages/ipykernel_launcher.py:1: SettingWithCopyWarning: \n",
            "A value is trying to be set on a copy of a slice from a DataFrame\n",
            "\n",
            "See the caveats in the documentation: https://pandas.pydata.org/pandas-docs/stable/user_guide/indexing.html#returning-a-view-versus-a-copy\n",
            "  \"\"\"Entry point for launching an IPython kernel.\n"
          ],
          "name": "stderr"
        }
      ]
    },
    {
      "cell_type": "code",
      "metadata": {
        "colab": {
          "base_uri": "https://localhost:8080/"
        },
        "id": "6_YTiVKpmFHX",
        "outputId": "3ea23ed6-55e6-4cd7-e2e4-e5876a1185a5"
      },
      "source": [
        "train_reviews.shape"
      ],
      "execution_count": 7,
      "outputs": [
        {
          "output_type": "execute_result",
          "data": {
            "text/plain": [
              "(560000, 2)"
            ]
          },
          "metadata": {
            "tags": []
          },
          "execution_count": 7
        }
      ]
    },
    {
      "cell_type": "code",
      "metadata": {
        "id": "wiaadA6Nv8Dh"
      },
      "source": [
        "train_reviews_test = pd.read_csv(args.raw_train_dataset_csv, header=None, names=['rating', 'review'])"
      ],
      "execution_count": 8,
      "outputs": []
    },
    {
      "cell_type": "code",
      "metadata": {
        "colab": {
          "base_uri": "https://localhost:8080/"
        },
        "id": "gubUhUquu_5g",
        "outputId": "7504941b-d655-4406-c5f5-7667a749f3e1"
      },
      "source": [
        "train_reviews_test[0:2]['review']"
      ],
      "execution_count": 9,
      "outputs": [
        {
          "output_type": "execute_result",
          "data": {
            "text/plain": [
              "0    Unfortunately, the frustration of being Dr. Go...\n",
              "1    Been going to Dr. Goldberg for over 10 years. ...\n",
              "Name: review, dtype: object"
            ]
          },
          "metadata": {
            "tags": []
          },
          "execution_count": 9
        }
      ]
    },
    {
      "cell_type": "code",
      "metadata": {
        "colab": {
          "base_uri": "https://localhost:8080/"
        },
        "id": "V-QTdiEz12Qy",
        "outputId": "3248c7f6-4812-4b43-e094-7cfb3bf84fc9"
      },
      "source": [
        "#위 표현과 같은 것\n",
        "train_reviews_test.review[0:2]"
      ],
      "execution_count": 10,
      "outputs": [
        {
          "output_type": "execute_result",
          "data": {
            "text/plain": [
              "0    Unfortunately, the frustration of being Dr. Go...\n",
              "1    Been going to Dr. Goldberg for over 10 years. ...\n",
              "Name: review, dtype: object"
            ]
          },
          "metadata": {
            "tags": []
          },
          "execution_count": 10
        }
      ]
    },
    {
      "cell_type": "code",
      "metadata": {
        "colab": {
          "base_uri": "https://localhost:8080/"
        },
        "id": "0AG4Mu4zwFtm",
        "outputId": "27874f9e-4554-4c4a-f7e9-2cf4d05f275a"
      },
      "source": [
        "train_reviews_test[0:2]['review'][0] = np.nan\n",
        "train_reviews_test[0:2]['review'][1] = ''"
      ],
      "execution_count": 11,
      "outputs": [
        {
          "output_type": "stream",
          "text": [
            "/usr/local/lib/python3.6/dist-packages/IPython/core/interactiveshell.py:2882: SettingWithCopyWarning: \n",
            "A value is trying to be set on a copy of a slice from a DataFrame\n",
            "\n",
            "See the caveats in the documentation: https://pandas.pydata.org/pandas-docs/stable/user_guide/indexing.html#returning-a-view-versus-a-copy\n",
            "  exec(code_obj, self.user_global_ns, self.user_ns)\n"
          ],
          "name": "stderr"
        }
      ]
    },
    {
      "cell_type": "code",
      "metadata": {
        "colab": {
          "base_uri": "https://localhost:8080/"
        },
        "id": "Dftiz1nNw791",
        "outputId": "09ea9686-fde4-4cf5-b894-d04c94f80db6"
      },
      "source": [
        "train_reviews_test[0:2]['review']"
      ],
      "execution_count": 12,
      "outputs": [
        {
          "output_type": "execute_result",
          "data": {
            "text/plain": [
              "0    NaN\n",
              "1       \n",
              "Name: review, dtype: object"
            ]
          },
          "metadata": {
            "tags": []
          },
          "execution_count": 12
        }
      ]
    },
    {
      "cell_type": "code",
      "metadata": {
        "colab": {
          "base_uri": "https://localhost:8080/"
        },
        "id": "N2B28YHIkwo5",
        "outputId": "97b496ea-107f-48dc-83a0-752e4e369732"
      },
      "source": [
        "pd.isnull(train_reviews_test[0:2]['review'])"
      ],
      "execution_count": 13,
      "outputs": [
        {
          "output_type": "execute_result",
          "data": {
            "text/plain": [
              "0     True\n",
              "1    False\n",
              "Name: review, dtype: bool"
            ]
          },
          "metadata": {
            "tags": []
          },
          "execution_count": 13
        }
      ]
    },
    {
      "cell_type": "code",
      "metadata": {
        "colab": {
          "base_uri": "https://localhost:8080/"
        },
        "id": "KMpTlTWCzc0n",
        "outputId": "d47c0fb1-e9ba-49d0-ce11-52dbf6042679"
      },
      "source": [
        "~pd.isnull(train_reviews_test.review[0:2])"
      ],
      "execution_count": 14,
      "outputs": [
        {
          "output_type": "execute_result",
          "data": {
            "text/plain": [
              "0    False\n",
              "1     True\n",
              "Name: review, dtype: bool"
            ]
          },
          "metadata": {
            "tags": []
          },
          "execution_count": 14
        }
      ]
    },
    {
      "cell_type": "markdown",
      "metadata": {
        "id": "-mJCniad29Bf"
      },
      "source": [
        "데이터 로드 - 결측치를 제거 시키고 다운로드 한다"
      ]
    },
    {
      "cell_type": "code",
      "metadata": {
        "id": "ohp9Z6jok6sx"
      },
      "source": [
        "train_reviews = pd.read_csv(args.raw_train_dataset_csv, header=None, names=['rating', 'review'])\n",
        "train_reviews = train_reviews[~pd.isnull(train_reviews.review)] #nan이 아닌 것만 train_reivews로 가져온다. 즉 결측치 제거\n",
        "test_reviews = pd.read_csv(args.raw_test_dataset_csv, header=None, names=['rating', 'review'])\n",
        "test_reviews = test_reviews[~pd.isnull(test_reviews.review)] # nan 제거하고 담음 결측치 제거"
      ],
      "execution_count": 15,
      "outputs": []
    },
    {
      "cell_type": "code",
      "metadata": {
        "colab": {
          "base_uri": "https://localhost:8080/",
          "height": 204
        },
        "id": "iLhJpKOA3wBY",
        "outputId": "60e7eadb-2089-4a24-bd7c-35fb32c60c02"
      },
      "source": [
        "train_reviews.head()"
      ],
      "execution_count": 16,
      "outputs": [
        {
          "output_type": "execute_result",
          "data": {
            "text/html": [
              "<div>\n",
              "<style scoped>\n",
              "    .dataframe tbody tr th:only-of-type {\n",
              "        vertical-align: middle;\n",
              "    }\n",
              "\n",
              "    .dataframe tbody tr th {\n",
              "        vertical-align: top;\n",
              "    }\n",
              "\n",
              "    .dataframe thead th {\n",
              "        text-align: right;\n",
              "    }\n",
              "</style>\n",
              "<table border=\"1\" class=\"dataframe\">\n",
              "  <thead>\n",
              "    <tr style=\"text-align: right;\">\n",
              "      <th></th>\n",
              "      <th>rating</th>\n",
              "      <th>review</th>\n",
              "    </tr>\n",
              "  </thead>\n",
              "  <tbody>\n",
              "    <tr>\n",
              "      <th>0</th>\n",
              "      <td>1</td>\n",
              "      <td>Unfortunately, the frustration of being Dr. Go...</td>\n",
              "    </tr>\n",
              "    <tr>\n",
              "      <th>1</th>\n",
              "      <td>2</td>\n",
              "      <td>Been going to Dr. Goldberg for over 10 years. ...</td>\n",
              "    </tr>\n",
              "    <tr>\n",
              "      <th>2</th>\n",
              "      <td>1</td>\n",
              "      <td>I don't know what Dr. Goldberg was like before...</td>\n",
              "    </tr>\n",
              "    <tr>\n",
              "      <th>3</th>\n",
              "      <td>1</td>\n",
              "      <td>I'm writing this review to give you a heads up...</td>\n",
              "    </tr>\n",
              "    <tr>\n",
              "      <th>4</th>\n",
              "      <td>2</td>\n",
              "      <td>All the food is great here. But the best thing...</td>\n",
              "    </tr>\n",
              "  </tbody>\n",
              "</table>\n",
              "</div>"
            ],
            "text/plain": [
              "   rating                                             review\n",
              "0       1  Unfortunately, the frustration of being Dr. Go...\n",
              "1       2  Been going to Dr. Goldberg for over 10 years. ...\n",
              "2       1  I don't know what Dr. Goldberg was like before...\n",
              "3       1  I'm writing this review to give you a heads up...\n",
              "4       2  All the food is great here. But the best thing..."
            ]
          },
          "metadata": {
            "tags": []
          },
          "execution_count": 16
        }
      ]
    },
    {
      "cell_type": "code",
      "metadata": {
        "colab": {
          "base_uri": "https://localhost:8080/",
          "height": 204
        },
        "id": "YCg_GI05alWM",
        "outputId": "cd3e5e12-590e-4824-98fe-b1df9e20541d"
      },
      "source": [
        "test_reviews.head()"
      ],
      "execution_count": 51,
      "outputs": [
        {
          "output_type": "execute_result",
          "data": {
            "text/html": [
              "<div>\n",
              "<style scoped>\n",
              "    .dataframe tbody tr th:only-of-type {\n",
              "        vertical-align: middle;\n",
              "    }\n",
              "\n",
              "    .dataframe tbody tr th {\n",
              "        vertical-align: top;\n",
              "    }\n",
              "\n",
              "    .dataframe thead th {\n",
              "        text-align: right;\n",
              "    }\n",
              "</style>\n",
              "<table border=\"1\" class=\"dataframe\">\n",
              "  <thead>\n",
              "    <tr style=\"text-align: right;\">\n",
              "      <th></th>\n",
              "      <th>rating</th>\n",
              "      <th>review</th>\n",
              "    </tr>\n",
              "  </thead>\n",
              "  <tbody>\n",
              "    <tr>\n",
              "      <th>0</th>\n",
              "      <td>1</td>\n",
              "      <td>Ordered a large Mango-Pineapple smoothie. Stay...</td>\n",
              "    </tr>\n",
              "    <tr>\n",
              "      <th>1</th>\n",
              "      <td>2</td>\n",
              "      <td>Quite a surprise!  \\n\\nMy wife and I loved thi...</td>\n",
              "    </tr>\n",
              "    <tr>\n",
              "      <th>2</th>\n",
              "      <td>1</td>\n",
              "      <td>First I will say, this is a nice atmosphere an...</td>\n",
              "    </tr>\n",
              "    <tr>\n",
              "      <th>3</th>\n",
              "      <td>2</td>\n",
              "      <td>I was overall pretty impressed by this hotel. ...</td>\n",
              "    </tr>\n",
              "    <tr>\n",
              "      <th>4</th>\n",
              "      <td>1</td>\n",
              "      <td>Video link at bottom review. Worst service I h...</td>\n",
              "    </tr>\n",
              "  </tbody>\n",
              "</table>\n",
              "</div>"
            ],
            "text/plain": [
              "   rating                                             review\n",
              "0       1  Ordered a large Mango-Pineapple smoothie. Stay...\n",
              "1       2  Quite a surprise!  \\n\\nMy wife and I loved thi...\n",
              "2       1  First I will say, this is a nice atmosphere an...\n",
              "3       2  I was overall pretty impressed by this hotel. ...\n",
              "4       1  Video link at bottom review. Worst service I h..."
            ]
          },
          "metadata": {
            "tags": []
          },
          "execution_count": 51
        }
      ]
    },
    {
      "cell_type": "code",
      "metadata": {
        "id": "StGmVBQF38pB",
        "colab": {
          "base_uri": "https://localhost:8080/"
        },
        "outputId": "b6cb0e2e-307b-4718-b5e4-131df8802e45"
      },
      "source": [
        "set(train_reviews.rating)"
      ],
      "execution_count": 17,
      "outputs": [
        {
          "output_type": "execute_result",
          "data": {
            "text/plain": [
              "{1, 2}"
            ]
          },
          "metadata": {
            "tags": []
          },
          "execution_count": 17
        }
      ]
    },
    {
      "cell_type": "code",
      "metadata": {
        "id": "XnTr2qR8SzO0"
      },
      "source": [
        "# dict 만들기\n",
        "by_rating = collections.defaultdict(list)\n",
        "for _, row in train_reviews.iterrows():\n",
        "    by_rating[row.rating].append(row.to_dict()) # rating값이 key."
      ],
      "execution_count": 18,
      "outputs": []
    },
    {
      "cell_type": "code",
      "metadata": {
        "colab": {
          "base_uri": "https://localhost:8080/"
        },
        "id": "WeDyPIq7TKH4",
        "outputId": "eb9a8324-94cd-4e03-981e-770b2f7ce7d3"
      },
      "source": [
        "by_rating.keys()"
      ],
      "execution_count": 19,
      "outputs": [
        {
          "output_type": "execute_result",
          "data": {
            "text/plain": [
              "dict_keys([1, 2])"
            ]
          },
          "metadata": {
            "tags": []
          },
          "execution_count": 19
        }
      ]
    },
    {
      "cell_type": "code",
      "metadata": {
        "id": "VoUWC_FpUIzC"
      },
      "source": [
        "#data split\n",
        "final_list = []\n",
        "np.random.seed(args.seed)\n",
        "\n",
        "for _, item_list in sorted(by_rating.items()):\n",
        "    np.random.shuffle(item_list)\n",
        "\n",
        "    n_total = len(item_list)\n",
        "    n_train = int(args.train_proportion * n_total)\n",
        "    n_val = int(args.val_proportion * n_total)\n",
        "    \n",
        "    #기존 데이터에 새로운 특징 추가\n",
        "    for item in item_list[:n_train]: #훈련 데이터 셋 붙이기\n",
        "        item['split'] = 'train'\n",
        "    \n",
        "    for item in item_list[n_train:n_train+n_val]: #검증 데이터 셋 붙이기/ 테스트는 따로 붙임\n",
        "        item['split'] = 'val'\n",
        "\n",
        "    final_list.extend(item_list)"
      ],
      "execution_count": 24,
      "outputs": []
    },
    {
      "cell_type": "code",
      "metadata": {
        "colab": {
          "base_uri": "https://localhost:8080/"
        },
        "id": "agElM1-dVqDx",
        "outputId": "e2601d5b-c51a-4a63-9551-5d03f0a4e65a"
      },
      "source": [
        "final_list[9999]"
      ],
      "execution_count": 25,
      "outputs": [
        {
          "output_type": "execute_result",
          "data": {
            "text/plain": [
              "{'rating': 1,\n",
              " 'review': \"The customer service is so bad here. You walk in and you're not greeted. I've had 3 separate occasions to be here and never once was I greeted. No one looks up to speak. When you finally do catch someones attention they simply tell you to sign in. They may or may not be working with a customer. You sign in, then they acknowledge you, even if no one else is in the store!! \\\\nThe only reason they do not have 1 star is because they have a large variety of frames and the prices for frames are reasonable. As far as getting your lenses I felt those prices were high even for their basic lens without any upgrades. I don't have vision insurance so eyeglass world it is but it is definitely not my first pick and wouldn't recommend them to anyone I like.\",\n",
              " 'split': 'train'}"
            ]
          },
          "metadata": {
            "tags": []
          },
          "execution_count": 25
        }
      ]
    },
    {
      "cell_type": "markdown",
      "metadata": {
        "id": "fv7L-DC9fBra"
      },
      "source": [
        "## dict itteration 도는 부분이 헷갈려서 세부적으로 나눠 정리해봄. 아래 참조"
      ]
    },
    {
      "cell_type": "code",
      "metadata": {
        "id": "NxgP_1jqfhJL"
      },
      "source": [
        "example = train_reviews[1:10].copy()\n",
        "example['review'][1] = np.nan"
      ],
      "execution_count": null,
      "outputs": []
    },
    {
      "cell_type": "code",
      "metadata": {
        "colab": {
          "base_uri": "https://localhost:8080/"
        },
        "id": "4To1DXaMXPIq",
        "outputId": "9b6b99e5-501c-44eb-ca11-294d05a9cef6"
      },
      "source": [
        "for _, row in example.iterrows():\n",
        "    print(_)"
      ],
      "execution_count": 64,
      "outputs": [
        {
          "output_type": "stream",
          "text": [
            "1\n",
            "2\n",
            "3\n",
            "4\n",
            "5\n",
            "6\n",
            "7\n",
            "8\n",
            "9\n"
          ],
          "name": "stdout"
        }
      ]
    },
    {
      "cell_type": "code",
      "metadata": {
        "colab": {
          "base_uri": "https://localhost:8080/"
        },
        "id": "KBpZekNZe0R7",
        "outputId": "18dd037b-7e8f-4a29-8a55-d9b348d1c5f1"
      },
      "source": [
        "for _, row in example.iterrows():\n",
        "    print(row)"
      ],
      "execution_count": 65,
      "outputs": [
        {
          "output_type": "stream",
          "text": [
            "rating      2\n",
            "review    NaN\n",
            "Name: 1, dtype: object\n",
            "rating                                                    1\n",
            "review    I don't know what Dr. Goldberg was like before...\n",
            "Name: 2, dtype: object\n",
            "rating                                                    1\n",
            "review    I'm writing this review to give you a heads up...\n",
            "Name: 3, dtype: object\n",
            "rating                                                    2\n",
            "review    All the food is great here. But the best thing...\n",
            "Name: 4, dtype: object\n",
            "rating                                                    1\n",
            "review    Wing sauce is like water. Pretty much a lot of...\n",
            "Name: 5, dtype: object\n",
            "rating                                                    1\n",
            "review    Owning a driving range inside the city limits ...\n",
            "Name: 6, dtype: object\n",
            "rating                                                    1\n",
            "review    This place is absolute garbage...  Half of the...\n",
            "Name: 7, dtype: object\n",
            "rating                                                    2\n",
            "review    Before I finally made it over to this range I ...\n",
            "Name: 8, dtype: object\n",
            "rating                                                    2\n",
            "review    I drove by yesterday to get a sneak peak.  It ...\n",
            "Name: 9, dtype: object\n"
          ],
          "name": "stdout"
        }
      ]
    },
    {
      "cell_type": "code",
      "metadata": {
        "colab": {
          "base_uri": "https://localhost:8080/"
        },
        "id": "FeQL3vJUe6CL",
        "outputId": "ffce5b79-fb40-46d2-fdd0-5ce0ed97b5e8"
      },
      "source": [
        "for _, row in example.iterrows():\n",
        "    row_dict = row.to_dict()\n",
        "    print(row_dict)"
      ],
      "execution_count": 66,
      "outputs": [
        {
          "output_type": "stream",
          "text": [
            "{'rating': 2, 'review': nan}\n",
            "{'rating': 1, 'review': \"I don't know what Dr. Goldberg was like before  moving to Arizona, but let me tell you, STAY AWAY from this doctor and this office. I was going to Dr. Johnson before he left and Goldberg took over when Johnson left. He is not a caring doctor. He is only interested in the co-pay and having you come in for medication refills every month. He will not give refills and could less about patients's financial situations. Trying to get your 90 days mail away pharmacy prescriptions through this guy is a joke. And to make matters even worse, his office staff is incompetent. 90% of the time when you call the office, they'll put you through to a voice mail, that NO ONE ever answers or returns your call. Both my adult children and husband have decided to leave this practice after experiencing such frustration. The entire office has an attitude like they are doing you a favor. Give me a break! Stay away from this doc and the practice. You deserve better and they will not be there when you really need them. I have never felt compelled to write a bad review about anyone until I met this pathetic excuse for a doctor who is all about the money.\"}\n",
            "{'rating': 1, 'review': \"I'm writing this review to give you a heads up before you see this Doctor. The office staff and administration are very unprofessional. I left a message with multiple people regarding my bill, and no one ever called me back. I had to hound them to get an answer about my bill. \\\\n\\\\nSecond, and most important, make sure your insurance is going to cover Dr. Goldberg's visits and blood work. He recommended to me that I get a physical, and he knew I was a student because I told him. I got the physical done. Later, I found out my health insurance doesn't pay for preventative visits. I received an $800.00 bill for the blood work. I can't pay for my bill because I'm a student and don't have any cash flow at this current time. I can't believe the Doctor wouldn't give me a heads up to make sure my insurance would cover work that wasn't necessary and was strictly preventative. The office can't do anything to help me cover the bill. In addition, the office staff said the onus is on me to make sure my insurance covers visits. Frustrating situation!\"}\n",
            "{'rating': 2, 'review': 'All the food is great here. But the best thing they have is their wings. Their wings are simply fantastic!!  The \\\\\"Wet Cajun\\\\\" are by the best & most popular.  I also like the seasoned salt wings.  Wing Night is Monday & Wednesday night, $0.75 whole wings!\\\\n\\\\nThe dining area is nice. Very family friendly! The bar is very nice is well.  This place is truly a Yinzer\\'s dream!!  \\\\\"Pittsburgh Dad\\\\\" would love this place n\\'at!!'}\n",
            "{'rating': 1, 'review': 'Wing sauce is like water. Pretty much a lot of butter and some hot sauce (franks red hot maybe).  The whole wings are good size and crispy, but for $1 a wing the sauce could be better. The hot and extra hot are about the same flavor/heat.  The fish sandwich is good and is a large portion, sides are decent.'}\n",
            "{'rating': 1, 'review': \"Owning a driving range inside the city limits is like a license to print money.  I don't think I ask much out of a driving range.  Decent mats, clean balls and accessible hours.  Hell you need even less people now with the advent of the machine that doles out the balls.  This place has none of them.  It is april and there are no grass tees yet.  BTW they opened for the season this week although it has been golfing weather for a month.  The mats look like the carpet at my 107 year old aunt Irene's house.  Worn and thread bare.  Let's talk about the hours.  This place is equipped with lights yet they only sell buckets of balls until 730.  It is still light out.  Finally lets you have the pit to hit into.  When I arrived I wasn't sure if this was a driving range or an excavation site for a mastodon or a strip mining operation.  There is no grass on the range. Just mud.  Makes it a good tool to figure out how far you actually are hitting the ball.  Oh, they are cash only also.\\\\n\\\\nBottom line, this place sucks.  The best hope is that the owner sells it to someone that actually wants to make money and service golfers in Pittsburgh.\"}\n",
            "{'rating': 1, 'review': \"This place is absolute garbage...  Half of the tees are not available, including all the grass tees.  It is cash only, and they sell the last bucket at 8, despite having lights.  And if you finish even a minute after 8, don't plan on getting a drink.  The vending machines are sold out (of course) and they sell drinks inside, but close the drawers at 8 on the dot.  There are weeds grown all over the place.  I noticed some sort of batting cage, but it looks like those are out of order as well.  Someone should buy this place and turn it into what it should be.\"}\n",
            "{'rating': 2, 'review': \"Before I finally made it over to this range I heard the same thing from most people - it's just fine to go work on your swing. I had such a low expectation I was pleasantly surprised. \\\\n\\\\nIt's a fairly big range - if you are familiar with Scally's in Moon, it seems like it has almost as many tees, though its not nearly as nice a facility. \\\\n\\\\nThe guys in the pro shop were two of the friendlier guys I've come across at ranges or at courses. Yards were indeed marked and there are some targets to aim for, and even some hazards to aim away from. \\\\n\\\\nA big red flag to me was the extra charge ($3) to hit off the grass. I am no range expert, but this is the 4th one I've been to and the first I've seen of that sort of nickel and diming....\\\\n\\\\nPrice for the golf balls was reasonable and I do plan to be back every week until they close up in October for the season. Hopefully, since its for sale, it will reopen as a golf facility again.\"}\n",
            "{'rating': 2, 'review': \"I drove by yesterday to get a sneak peak.  It re-opens on July 14th and I can't wait to take my kids.  The new range looks amazing.  The entire range appears to be turf, which may or many not help your game, but it looks really nice.  The tee boxes look state of the art and the club house looks like something you'll see on a newer course.  Can't wait to experience it!\"}\n"
          ],
          "name": "stdout"
        }
      ]
    },
    {
      "cell_type": "code",
      "metadata": {
        "id": "IzMMFgckVuRQ"
      },
      "source": [
        "#테스트 데이터 셋을 final_list에 최종 붙이기\n",
        "for _, row in test_reviews.iterrows():\n",
        "    row_dict = row.to_dict()\n",
        "    row_dict['split'] = 'test'\n",
        "    final_list.append(row_dict)"
      ],
      "execution_count": 59,
      "outputs": []
    },
    {
      "cell_type": "code",
      "metadata": {
        "colab": {
          "base_uri": "https://localhost:8080/"
        },
        "id": "T9jwjPeOeAPd",
        "outputId": "7d81f1b3-efd8-43e0-cd7a-bada6904102b"
      },
      "source": [
        "final_list[0:5]"
      ],
      "execution_count": 68,
      "outputs": [
        {
          "output_type": "execute_result",
          "data": {
            "text/plain": [
              "[{'rating': 1,\n",
              "  'review': \"The entrance was the #1 impressive thing about this place, as it is completely a surprise and almost shocks you.  I won't give it up here but it's worth at least getting a drink to experience that part.\\\\n\\\\nGreeter was great.\\\\n\\\\nLounge singer was very 70s and campy, but liked him none the less.\\\\n\\\\n\\\\nFood is pretty below average in pretty much every way possible.\\\\n\\\\nBread they bring out is pretty bad and dries out within minutes of being at the table to the point it's inedible.\\\\n\\\\nSalads were small, boring and WAY drowned in dressing.\\\\n\\\\nCalamari is $15 or so, and is half the size of what they'd give you at Capitol Grille, and is pretty bland and mushy.\\\\n\\\\nthe pasta tasted as though it were cooked in rancid water.  the chef was nice enough to come out and bring my wife a personalized dish that he eats, and it tasted the same.  we smiled and pretended to enjoy it just to keep from looking like big complainers.  We literally don't complain usually, but her first dish was inedible.\\\\n\\\\nMy lasagna was decent, but nothing spectacular and the sauce was too sweet (but that's a matter of taste, so i digress.)\\\\n\\\\nDesert: It was spectacular.  Try the tiramisu, it is the best I've ever had.  Canolis were great too.  Loved it.\\\\n\\\\nOur server was new, and he told us as such, so he was pretty clueless overall, but very nice as well.\\\\n\\\\nBus boys were very attentive.\\\\n\\\\nService overall was above average but the food was just so mediocre I can't think of a reason to talk myself into visiting again.\\\\n\\\\nIf you go, get a drink, maybe an app, and head somewhere else for a good italian dinner.  For God's sake, Maggianos (a chain) kills this place at the same price point.  You're better of there or Macaroni Grill truthfully.\",\n",
              "  'split': 'train'},\n",
              " {'rating': 1,\n",
              "  'review': \"I'm a Mclover, and I had no problem\\\\nwith the workers. But I have a problem waiting more than 30 minutes for my cheeseburger. They weren't even busy! This was my first and last time at this location.\",\n",
              "  'split': 'train'},\n",
              " {'rating': 1,\n",
              "  'review': \"Less than good here, not terrible, but I see no reason to come back.\\\\n\\\\nChicken yakisoba was really boring.  The chicken had zero flavor, it didn't taste seasoned at all or marinated.  It tasted like a plain grilled chicken thigh.  The noodles were lifeless, no flavor and mushy.  The dish had no flavor.  It was noodles, veg and chicken but nothing else.\\\\n\\\\nOrdered an egg roll, it was mushy.  One bite and that was it.  \\\\n\\\\nAlso, I guy in wheel chair had no place to sit.  This place has 4 rows of booths and no place for a wheel chair.  A little inconsiderate.\",\n",
              "  'split': 'train'},\n",
              " {'rating': 1,\n",
              "  'review': 'I don\\'t know if I can ever bring myself to go back to this place. I had to pick up some supplies the other day for some ongoing health issues I\\'ve been having. I\\'d only ever been into the store once before, so I was just walking around trying to familiarize myself with everything so that I finally knew where to look for what I was looking for. At one point an employee walked up to me and said \\\\\"You have been here FOREVER!!!!\\\\\" (I\\'d really only been there for about 10 minutes, but maybe she could have said it like it wasn\\'t an inconvenience that I\\'d been there for a few minutes.) I said \\\\\"I\\'m just looking for a few things and I don\\'t really know what I\\'m looking for\\\\\". I had a list with me from my doctor, so I told the woman what my doctor had suggested. She asked me \\\\\"And what health problems are you having?\\\\\" ...That was a very personal question that if I hadn\\'t been okay talking to another woman about, I would have just told her to mind her own business. ...But hoping that the more detail I gave her, the better she\\'d be able to help me, I told her what unpleasant things I had been experiencing. She then looked at me with a disgusted look. ...Great, exactly what I was hoping she WOULDN\\'T do. She started handing me all these vitamins and supplements... that were not what my doctor was telling me about. So I said \\\\\"I\\'m just looking for these few things\\\\\" and she said \\\\\"Well it looks like this is the aisle you want to be in. Here\\'s another supplement\\\\\" as she handed me yet another bottle. I said \\\\\"What does this do?\\\\\" and she said \\\\\"I don\\'t know, but it\\'s the berry from the same tree as that thing in your hand that your doctor suggested. I don\\'t even know what that\\'s for.\\\\\" I thanked her, told her I found what I was looking for, and when she left me, I put literally everything back that she had handed me because there was no way I was going to buy all this unwanted/unneeded crap. As it was, I walked out of there after spending $100. I know vitamin shops can be expensive, but if I\\'m going to spend $100 on herbal remedies, they should at least pretend like my health problems aren\\'t totally disgusting.',\n",
              "  'split': 'train'},\n",
              " {'rating': 1,\n",
              "  'review': 'Food was OK/Good but the service was terrible.  Fries came out cold but sandwiches were warm and good\\\\n\\\\nWe were repeatedly ignored by multiple members of the wait staff.  There were open tables in sight so it was clearly not rush hour.  Our appetizers never came out so I cancelled them when our entrees came.  Waiter seemed be hiding from us as we could never find him to order drinks, appetizer, or ketchup.  I eventually walked to another section of the restaurant to find another waiter who happily and rapidly got us drinks and ketchup.  The two runners who brought us waters and our entrees said they would bring us drinks and appetizers, but were never seen from again\\\\n\\\\nI would never eat here again.',\n",
              "  'split': 'train'}]"
            ]
          },
          "metadata": {
            "tags": []
          },
          "execution_count": 68
        }
      ]
    },
    {
      "cell_type": "code",
      "metadata": {
        "id": "Ss9zPwPXeIU9"
      },
      "source": [
        "final_reviews = pd.DataFrame(final_list)"
      ],
      "execution_count": 69,
      "outputs": []
    },
    {
      "cell_type": "code",
      "metadata": {
        "colab": {
          "base_uri": "https://localhost:8080/",
          "height": 204
        },
        "id": "YdrenuSZfybM",
        "outputId": "10a9450d-7e8b-414a-f0c6-1e4956544e66"
      },
      "source": [
        "final_reviews[480000:480005]"
      ],
      "execution_count": 74,
      "outputs": [
        {
          "output_type": "execute_result",
          "data": {
            "text/html": [
              "<div>\n",
              "<style scoped>\n",
              "    .dataframe tbody tr th:only-of-type {\n",
              "        vertical-align: middle;\n",
              "    }\n",
              "\n",
              "    .dataframe tbody tr th {\n",
              "        vertical-align: top;\n",
              "    }\n",
              "\n",
              "    .dataframe thead th {\n",
              "        text-align: right;\n",
              "    }\n",
              "</style>\n",
              "<table border=\"1\" class=\"dataframe\">\n",
              "  <thead>\n",
              "    <tr style=\"text-align: right;\">\n",
              "      <th></th>\n",
              "      <th>rating</th>\n",
              "      <th>review</th>\n",
              "      <th>split</th>\n",
              "    </tr>\n",
              "  </thead>\n",
              "  <tbody>\n",
              "    <tr>\n",
              "      <th>480000</th>\n",
              "      <td>2</td>\n",
              "      <td>Mon Ami Gabi is located in Paris hotel (visibl...</td>\n",
              "      <td>val</td>\n",
              "    </tr>\n",
              "    <tr>\n",
              "      <th>480001</th>\n",
              "      <td>2</td>\n",
              "      <td>I love the food here &amp; the lemonade is freshly...</td>\n",
              "      <td>val</td>\n",
              "    </tr>\n",
              "    <tr>\n",
              "      <th>480002</th>\n",
              "      <td>2</td>\n",
              "      <td>I love this place. I live in San Diego and the...</td>\n",
              "      <td>val</td>\n",
              "    </tr>\n",
              "    <tr>\n",
              "      <th>480003</th>\n",
              "      <td>2</td>\n",
              "      <td>After the tiring walk in the heated sun when i...</td>\n",
              "      <td>val</td>\n",
              "    </tr>\n",
              "    <tr>\n",
              "      <th>480004</th>\n",
              "      <td>2</td>\n",
              "      <td>Lunch review:  \\nGreat quick lunch options. I'...</td>\n",
              "      <td>val</td>\n",
              "    </tr>\n",
              "  </tbody>\n",
              "</table>\n",
              "</div>"
            ],
            "text/plain": [
              "        rating                                             review split\n",
              "480000       2  Mon Ami Gabi is located in Paris hotel (visibl...   val\n",
              "480001       2  I love the food here & the lemonade is freshly...   val\n",
              "480002       2  I love this place. I live in San Diego and the...   val\n",
              "480003       2  After the tiring walk in the heated sun when i...   val\n",
              "480004       2  Lunch review:  \\nGreat quick lunch options. I'...   val"
            ]
          },
          "metadata": {
            "tags": []
          },
          "execution_count": 74
        }
      ]
    },
    {
      "cell_type": "code",
      "metadata": {
        "colab": {
          "base_uri": "https://localhost:8080/"
        },
        "id": "_d3sDCw4fnZW",
        "outputId": "9a50ad4f-e972-44cf-f2b7-7530d0b7d5ba"
      },
      "source": [
        "final_reviews.split.value_counts()"
      ],
      "execution_count": 70,
      "outputs": [
        {
          "output_type": "execute_result",
          "data": {
            "text/plain": [
              "train    392000\n",
              "val       84000\n",
              "test      38000\n",
              "Name: split, dtype: int64"
            ]
          },
          "metadata": {
            "tags": []
          },
          "execution_count": 70
        }
      ]
    },
    {
      "cell_type": "code",
      "metadata": {
        "colab": {
          "base_uri": "https://localhost:8080/"
        },
        "id": "BTBXCQmcfr7T",
        "outputId": "a29a6efa-1642-4bad-ce94-61cbfcd0fe33"
      },
      "source": [
        "final_reviews.review.head()"
      ],
      "execution_count": 71,
      "outputs": [
        {
          "output_type": "execute_result",
          "data": {
            "text/plain": [
              "0    The entrance was the #1 impressive thing about...\n",
              "1    I'm a Mclover, and I had no problem\\nwith the ...\n",
              "2    Less than good here, not terrible, but I see n...\n",
              "3    I don't know if I can ever bring myself to go ...\n",
              "4    Food was OK/Good but the service was terrible....\n",
              "Name: review, dtype: object"
            ]
          },
          "metadata": {
            "tags": []
          },
          "execution_count": 71
        }
      ]
    },
    {
      "cell_type": "code",
      "metadata": {
        "colab": {
          "base_uri": "https://localhost:8080/",
          "height": 49
        },
        "id": "l30suXpbfvti",
        "outputId": "92bfc585-bae5-47eb-f320-dbd539bf042a"
      },
      "source": [
        "final_reviews[pd.isnull(final_reviews.review)] #null값 검사해서 true인 위치 가져와서 뿌려줘"
      ],
      "execution_count": 76,
      "outputs": [
        {
          "output_type": "execute_result",
          "data": {
            "text/html": [
              "<div>\n",
              "<style scoped>\n",
              "    .dataframe tbody tr th:only-of-type {\n",
              "        vertical-align: middle;\n",
              "    }\n",
              "\n",
              "    .dataframe tbody tr th {\n",
              "        vertical-align: top;\n",
              "    }\n",
              "\n",
              "    .dataframe thead th {\n",
              "        text-align: right;\n",
              "    }\n",
              "</style>\n",
              "<table border=\"1\" class=\"dataframe\">\n",
              "  <thead>\n",
              "    <tr style=\"text-align: right;\">\n",
              "      <th></th>\n",
              "      <th>rating</th>\n",
              "      <th>review</th>\n",
              "      <th>split</th>\n",
              "    </tr>\n",
              "  </thead>\n",
              "  <tbody>\n",
              "  </tbody>\n",
              "</table>\n",
              "</div>"
            ],
            "text/plain": [
              "Empty DataFrame\n",
              "Columns: [rating, review, split]\n",
              "Index: []"
            ]
          },
          "metadata": {
            "tags": []
          },
          "execution_count": 76
        }
      ]
    },
    {
      "cell_type": "code",
      "metadata": {
        "id": "w1jeDwcdgEnq"
      },
      "source": [
        "\n",
        "# Preprocess the reviews\n",
        "def preprocess_text(text):\n",
        "    if type(text) == float:\n",
        "        print(text)\n",
        "    text = text.lower()\n",
        "    text = re.sub(r\"([.,!?])\", r\" \\1 \", text)\n",
        "    text = re.sub(r\"[^a-zA-Z.,!?]+\", r\" \", text)\n",
        "    return text\n",
        "    \n",
        "final_reviews.review = final_reviews.review.apply(preprocess_text)"
      ],
      "execution_count": 77,
      "outputs": []
    },
    {
      "cell_type": "code",
      "metadata": {
        "id": "X_1pKS4SgrIu"
      },
      "source": [
        "final_reviews['rating'] = final_reviews.rating.apply({1: 'negative', 2: 'positive'}.get)"
      ],
      "execution_count": 78,
      "outputs": []
    },
    {
      "cell_type": "code",
      "metadata": {
        "colab": {
          "base_uri": "https://localhost:8080/",
          "height": 204
        },
        "id": "SNc1PWAJg1lg",
        "outputId": "722fe836-6188-4383-c9c3-71ba199bbab9"
      },
      "source": [
        "final_reviews.head()"
      ],
      "execution_count": 79,
      "outputs": [
        {
          "output_type": "execute_result",
          "data": {
            "text/html": [
              "<div>\n",
              "<style scoped>\n",
              "    .dataframe tbody tr th:only-of-type {\n",
              "        vertical-align: middle;\n",
              "    }\n",
              "\n",
              "    .dataframe tbody tr th {\n",
              "        vertical-align: top;\n",
              "    }\n",
              "\n",
              "    .dataframe thead th {\n",
              "        text-align: right;\n",
              "    }\n",
              "</style>\n",
              "<table border=\"1\" class=\"dataframe\">\n",
              "  <thead>\n",
              "    <tr style=\"text-align: right;\">\n",
              "      <th></th>\n",
              "      <th>rating</th>\n",
              "      <th>review</th>\n",
              "      <th>split</th>\n",
              "    </tr>\n",
              "  </thead>\n",
              "  <tbody>\n",
              "    <tr>\n",
              "      <th>0</th>\n",
              "      <td>negative</td>\n",
              "      <td>the entrance was the impressive thing about th...</td>\n",
              "      <td>train</td>\n",
              "    </tr>\n",
              "    <tr>\n",
              "      <th>1</th>\n",
              "      <td>negative</td>\n",
              "      <td>i m a mclover , and i had no problem nwith the...</td>\n",
              "      <td>train</td>\n",
              "    </tr>\n",
              "    <tr>\n",
              "      <th>2</th>\n",
              "      <td>negative</td>\n",
              "      <td>less than good here , not terrible , but i see...</td>\n",
              "      <td>train</td>\n",
              "    </tr>\n",
              "    <tr>\n",
              "      <th>3</th>\n",
              "      <td>negative</td>\n",
              "      <td>i don t know if i can ever bring myself to go ...</td>\n",
              "      <td>train</td>\n",
              "    </tr>\n",
              "    <tr>\n",
              "      <th>4</th>\n",
              "      <td>negative</td>\n",
              "      <td>food was ok good but the service was terrible ...</td>\n",
              "      <td>train</td>\n",
              "    </tr>\n",
              "  </tbody>\n",
              "</table>\n",
              "</div>"
            ],
            "text/plain": [
              "     rating                                             review  split\n",
              "0  negative  the entrance was the impressive thing about th...  train\n",
              "1  negative  i m a mclover , and i had no problem nwith the...  train\n",
              "2  negative  less than good here , not terrible , but i see...  train\n",
              "3  negative  i don t know if i can ever bring myself to go ...  train\n",
              "4  negative  food was ok good but the service was terrible ...  train"
            ]
          },
          "metadata": {
            "tags": []
          },
          "execution_count": 79
        }
      ]
    },
    {
      "cell_type": "code",
      "metadata": {
        "id": "xOkLMYCkg2xI"
      },
      "source": [
        ""
      ],
      "execution_count": null,
      "outputs": []
    }
  ]
}