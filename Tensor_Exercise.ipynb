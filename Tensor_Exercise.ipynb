{
  "nbformat": 4,
  "nbformat_minor": 0,
  "metadata": {
    "colab": {
      "name": "Tensor_Exercise.ipynb",
      "provenance": [],
      "authorship_tag": "ABX9TyPePknOFEWNcu+sqbKzY/rd",
      "include_colab_link": true
    },
    "kernelspec": {
      "name": "python3",
      "display_name": "Python 3"
    }
  },
  "cells": [
    {
      "cell_type": "markdown",
      "metadata": {
        "id": "view-in-github",
        "colab_type": "text"
      },
      "source": [
        "<a href=\"https://colab.research.google.com/github/RogerHeederer/NLPwithPyTorch_book/blob/main/Tensor_Exercise.ipynb\" target=\"_parent\"><img src=\"https://colab.research.google.com/assets/colab-badge.svg\" alt=\"Open In Colab\"/></a>"
      ]
    },
    {
      "cell_type": "markdown",
      "metadata": {
        "id": "SrGSdL2gj-FW"
      },
      "source": [
        "Exercise 1\n",
        "\n",
        "Create a 2D tensor and then add a dimension of size 1 inserted at the 0th axis"
      ]
    },
    {
      "cell_type": "code",
      "metadata": {
        "id": "KH7mQ6Buj3Vr"
      },
      "source": [
        "import torch\n",
        "import numpy as np"
      ],
      "execution_count": 1,
      "outputs": []
    },
    {
      "cell_type": "code",
      "metadata": {
        "colab": {
          "base_uri": "https://localhost:8080/"
        },
        "id": "4DHEPD6NkI7j",
        "outputId": "71d30326-db61-4aaa-cb7d-fd05a657cc9d"
      },
      "source": [
        "a = torch.rand(3,3)\n",
        "a = a.unsqueeze(0)\n",
        "print(a)\n",
        "print(a.shape)"
      ],
      "execution_count": 5,
      "outputs": [
        {
          "output_type": "stream",
          "text": [
            "tensor([[[0.7833, 0.0488, 0.4043],\n",
            "         [0.9611, 0.6269, 0.3857],\n",
            "         [0.1891, 0.9058, 0.7955]]])\n",
            "torch.Size([1, 3, 3])\n"
          ],
          "name": "stdout"
        }
      ]
    },
    {
      "cell_type": "markdown",
      "metadata": {
        "id": "LjYBh6tLk9eE"
      },
      "source": [
        "Exercise 2\n",
        "\n",
        "Remove the extra dimension you just added to the previous tensor."
      ]
    },
    {
      "cell_type": "code",
      "metadata": {
        "colab": {
          "base_uri": "https://localhost:8080/"
        },
        "id": "DLEFarASkNYJ",
        "outputId": "3b1e4aef-6121-4a32-977b-efa9c3345100"
      },
      "source": [
        "a = a.squeeze(0)\n",
        "print(a)\n",
        "print(a.shape)"
      ],
      "execution_count": 7,
      "outputs": [
        {
          "output_type": "stream",
          "text": [
            "tensor([[0.7833, 0.0488, 0.4043],\n",
            "        [0.9611, 0.6269, 0.3857],\n",
            "        [0.1891, 0.9058, 0.7955]])\n",
            "torch.Size([3, 3])\n"
          ],
          "name": "stdout"
        }
      ]
    },
    {
      "cell_type": "markdown",
      "metadata": {
        "id": "BMWGF-XJlLqi"
      },
      "source": [
        "Exercise 3\n",
        "\n",
        "Create a random of shape 5x3 in the interaval (3,7)"
      ]
    },
    {
      "cell_type": "code",
      "metadata": {
        "colab": {
          "base_uri": "https://localhost:8080/"
        },
        "id": "kz3cdgw-lG84",
        "outputId": "43aa1798-f8e0-4d83-9475-63fd89ed2e7f"
      },
      "source": [
        "3 + torch.rand(5,3) * 4"
      ],
      "execution_count": 11,
      "outputs": [
        {
          "output_type": "execute_result",
          "data": {
            "text/plain": [
              "tensor([[5.0791, 6.7126, 3.6459],\n",
              "        [4.6927, 5.2171, 4.9457],\n",
              "        [4.0624, 4.7904, 6.5831],\n",
              "        [5.7474, 6.0130, 3.3999],\n",
              "        [3.4473, 6.5840, 4.0840]])"
            ]
          },
          "metadata": {
            "tags": []
          },
          "execution_count": 11
        }
      ]
    },
    {
      "cell_type": "markdown",
      "metadata": {
        "id": "xKctyHLZlzHg"
      },
      "source": [
        "Exercise 4\n",
        "\n",
        "Create a tensor with values from a normal distribution (mean=0, std=1)"
      ]
    },
    {
      "cell_type": "code",
      "metadata": {
        "colab": {
          "base_uri": "https://localhost:8080/"
        },
        "id": "kxlpCKPclgtH",
        "outputId": "6549bd65-c1bb-4c92-8676-802d47adbee4"
      },
      "source": [
        "a = torch.rand(3,3)\n",
        "a.normal_(mean=0, std=1)"
      ],
      "execution_count": 12,
      "outputs": [
        {
          "output_type": "execute_result",
          "data": {
            "text/plain": [
              "tensor([[-0.1309,  0.2968,  1.5636],\n",
              "        [-0.3425,  0.8699, -0.5393],\n",
              "        [ 0.1137, -0.0511,  0.7846]])"
            ]
          },
          "metadata": {
            "tags": []
          },
          "execution_count": 12
        }
      ]
    },
    {
      "cell_type": "markdown",
      "metadata": {
        "id": "7IE_HKu9mCHC"
      },
      "source": [
        "Exercise 5\n",
        "\n",
        "Retrieve the indexes of all the non zero elements in the tensor torch."
      ]
    },
    {
      "cell_type": "code",
      "metadata": {
        "colab": {
          "base_uri": "https://localhost:8080/"
        },
        "id": "tqy8LV6_l_lC",
        "outputId": "8f274e3b-f5e7-4f62-87ee-a805fceeaa14"
      },
      "source": [
        "a = torch.Tensor([1, 1, 1, 0, 1])\n",
        "torch.nonzero(a)"
      ],
      "execution_count": 22,
      "outputs": [
        {
          "output_type": "execute_result",
          "data": {
            "text/plain": [
              "tensor([[0],\n",
              "        [1],\n",
              "        [2],\n",
              "        [4]])"
            ]
          },
          "metadata": {
            "tags": []
          },
          "execution_count": 22
        }
      ]
    },
    {
      "cell_type": "code",
      "metadata": {
        "colab": {
          "base_uri": "https://localhost:8080/"
        },
        "id": "sLasWWctnhPV",
        "outputId": "66429e9f-97f9-4a73-c795-85ecb4c1838c"
      },
      "source": [
        "torch.nonzero(a).shape"
      ],
      "execution_count": 25,
      "outputs": [
        {
          "output_type": "execute_result",
          "data": {
            "text/plain": [
              "torch.Size([4, 1])"
            ]
          },
          "metadata": {
            "tags": []
          },
          "execution_count": 25
        }
      ]
    },
    {
      "cell_type": "markdown",
      "metadata": {
        "id": "LHoK1OVmn0Av"
      },
      "source": [
        "Exercise 6\n",
        "\n",
        "Create a random tensor of size(3,1) and then horizonally stack 4 copies together"
      ]
    },
    {
      "cell_type": "code",
      "metadata": {
        "colab": {
          "base_uri": "https://localhost:8080/"
        },
        "id": "3x3gzOUknpfk",
        "outputId": "171d4e36-f838-4a47-c798-51d362715784"
      },
      "source": [
        "a = torch.rand(3,1)\n",
        "print(a)"
      ],
      "execution_count": 30,
      "outputs": [
        {
          "output_type": "stream",
          "text": [
            "tensor([[0.1262],\n",
            "        [0.5598],\n",
            "        [0.3281]])\n"
          ],
          "name": "stdout"
        }
      ]
    },
    {
      "cell_type": "code",
      "metadata": {
        "colab": {
          "base_uri": "https://localhost:8080/"
        },
        "id": "2IWB-jlRn9vb",
        "outputId": "63c99834-2808-45f7-c53d-4cf964b52246"
      },
      "source": [
        "a.expand(3,4)"
      ],
      "execution_count": 31,
      "outputs": [
        {
          "output_type": "execute_result",
          "data": {
            "text/plain": [
              "tensor([[0.1262, 0.1262, 0.1262, 0.1262],\n",
              "        [0.5598, 0.5598, 0.5598, 0.5598],\n",
              "        [0.3281, 0.3281, 0.3281, 0.3281]])"
            ]
          },
          "metadata": {
            "tags": []
          },
          "execution_count": 31
        }
      ]
    },
    {
      "cell_type": "code",
      "metadata": {
        "colab": {
          "base_uri": "https://localhost:8080/"
        },
        "id": "jp6K19ERpUjg",
        "outputId": "610ae973-219e-4a8f-b7b6-095657370d61"
      },
      "source": [
        "torch.cat([a,a,a,a], dim=1)"
      ],
      "execution_count": 38,
      "outputs": [
        {
          "output_type": "execute_result",
          "data": {
            "text/plain": [
              "tensor([[0.1262, 0.1262, 0.1262, 0.1262],\n",
              "        [0.5598, 0.5598, 0.5598, 0.5598],\n",
              "        [0.3281, 0.3281, 0.3281, 0.3281]])"
            ]
          },
          "metadata": {
            "tags": []
          },
          "execution_count": 38
        }
      ]
    },
    {
      "cell_type": "code",
      "metadata": {
        "colab": {
          "base_uri": "https://localhost:8080/"
        },
        "id": "YwILgvGuoOvX",
        "outputId": "2d0ae39a-4776-40a5-8749-83e70d07ef92"
      },
      "source": [
        "torch.stack([a, a])"
      ],
      "execution_count": 34,
      "outputs": [
        {
          "output_type": "execute_result",
          "data": {
            "text/plain": [
              "tensor([[[0.1262],\n",
              "         [0.5598],\n",
              "         [0.3281]],\n",
              "\n",
              "        [[0.1262],\n",
              "         [0.5598],\n",
              "         [0.3281]]])"
            ]
          },
          "metadata": {
            "tags": []
          },
          "execution_count": 34
        }
      ]
    },
    {
      "cell_type": "code",
      "metadata": {
        "colab": {
          "base_uri": "https://localhost:8080/"
        },
        "id": "3n0M0w1lor8C",
        "outputId": "4217632f-9ada-4612-899c-451e269044cf"
      },
      "source": [
        "torch.cat([a, a], dim=0)"
      ],
      "execution_count": 36,
      "outputs": [
        {
          "output_type": "execute_result",
          "data": {
            "text/plain": [
              "tensor([[0.1262],\n",
              "        [0.5598],\n",
              "        [0.3281],\n",
              "        [0.1262],\n",
              "        [0.5598],\n",
              "        [0.3281]])"
            ]
          },
          "metadata": {
            "tags": []
          },
          "execution_count": 36
        }
      ]
    },
    {
      "cell_type": "markdown",
      "metadata": {
        "id": "jkYW_jjGpb23"
      },
      "source": [
        "Exercise 7\n",
        "\n",
        "Return the batch matrix-matrix product of two 3 dimensional matrices\n",
        "\n",
        "a=torch.rand(3,4,5)\n",
        "\n",
        "b=torch.rand(3,5,4)"
      ]
    },
    {
      "cell_type": "code",
      "metadata": {
        "colab": {
          "base_uri": "https://localhost:8080/"
        },
        "id": "c21dt5BOtaz-",
        "outputId": "303a5fad-040d-46c4-ea40-cec94111c51a"
      },
      "source": [
        "a = torch.rand(3,4,5)\n",
        "b = torch.rand(3,5,4)\n",
        "print(a)\n",
        "print(b)"
      ],
      "execution_count": 40,
      "outputs": [
        {
          "output_type": "stream",
          "text": [
            "tensor([[[0.4094, 0.9980, 0.4250, 0.1504, 0.4541],\n",
            "         [0.3102, 0.0474, 0.8093, 0.6131, 0.7571],\n",
            "         [0.5573, 0.8236, 0.7563, 0.0282, 0.1677],\n",
            "         [0.7447, 0.8736, 0.7603, 0.8401, 0.7693]],\n",
            "\n",
            "        [[0.8363, 0.0117, 0.4842, 0.6310, 0.0162],\n",
            "         [0.2272, 0.8448, 0.5298, 0.5652, 0.9555],\n",
            "         [0.5576, 0.4516, 0.8807, 0.0804, 0.1214],\n",
            "         [0.0213, 0.9007, 0.5870, 0.8717, 0.1643]],\n",
            "\n",
            "        [[0.5676, 0.7819, 0.3115, 0.8554, 0.0466],\n",
            "         [0.6507, 0.7628, 0.6591, 0.0755, 0.0521],\n",
            "         [0.3055, 0.4284, 0.4047, 0.5777, 0.4120],\n",
            "         [0.3152, 0.8385, 0.8218, 0.0790, 0.7710]]])\n",
            "tensor([[[9.9722e-02, 9.6720e-01, 5.2147e-01, 6.4195e-01],\n",
            "         [8.5298e-01, 7.5989e-01, 9.9876e-02, 3.8179e-01],\n",
            "         [6.7433e-01, 8.7082e-05, 9.4989e-01, 8.9259e-01],\n",
            "         [9.0945e-01, 3.3490e-01, 7.5147e-01, 6.1709e-01],\n",
            "         [4.5629e-03, 4.5743e-01, 2.1843e-01, 6.6933e-01]],\n",
            "\n",
            "        [[3.8365e-01, 5.9391e-01, 7.3233e-01, 3.1477e-01],\n",
            "         [5.4217e-02, 5.4740e-01, 2.8351e-01, 4.1583e-02],\n",
            "         [8.3874e-01, 9.5530e-01, 6.8818e-02, 9.3898e-01],\n",
            "         [8.5119e-01, 5.6670e-01, 7.2300e-02, 8.5924e-01],\n",
            "         [5.8726e-01, 6.8097e-01, 8.5564e-01, 8.6807e-01]],\n",
            "\n",
            "        [[3.2078e-01, 5.5393e-01, 1.6288e-01, 9.8127e-01],\n",
            "         [8.5407e-01, 3.3542e-02, 8.0095e-01, 2.7671e-01],\n",
            "         [3.0319e-01, 5.0885e-01, 3.3487e-01, 5.4882e-01],\n",
            "         [5.8435e-01, 5.4789e-01, 4.4549e-01, 1.8732e-01],\n",
            "         [8.6249e-01, 7.9254e-01, 7.6585e-02, 9.1346e-01]]])\n"
          ],
          "name": "stdout"
        }
      ]
    },
    {
      "cell_type": "code",
      "metadata": {
        "colab": {
          "base_uri": "https://localhost:8080/"
        },
        "id": "JHx8ldJbtjDf",
        "outputId": "c6a98186-8a9b-4c28-fdf2-bd9620b25cf4"
      },
      "source": [
        "torch.bmm(a, b).shape"
      ],
      "execution_count": 41,
      "outputs": [
        {
          "output_type": "execute_result",
          "data": {
            "text/plain": [
              "torch.Size([3, 4, 4])"
            ]
          },
          "metadata": {
            "tags": []
          },
          "execution_count": 41
        }
      ]
    },
    {
      "cell_type": "code",
      "metadata": {
        "colab": {
          "base_uri": "https://localhost:8080/"
        },
        "id": "B8WceY0Qt0oc",
        "outputId": "3729b5c6-de21-4467-a2ed-709592345a31"
      },
      "source": [
        "torch.bmm(a,b)"
      ],
      "execution_count": 42,
      "outputs": [
        {
          "output_type": "execute_result",
          "data": {
            "text/plain": [
              "tensor([[[1.3175, 1.4125, 0.9290, 1.4199],\n",
              "         [1.1782, 0.8878, 1.5614, 1.8247],\n",
              "         [1.2945, 1.2512, 1.1491, 1.4769],\n",
              "         [2.0997, 2.0174, 1.9972, 2.5236]],\n",
              "\n",
              "        [[1.2742, 1.3343, 0.7086, 1.2746],\n",
              "         [1.6195, 2.0744, 1.3007, 1.9191],\n",
              "         [1.1168, 1.5480, 0.7067, 1.1957],\n",
              "         [1.3878, 1.6723, 0.5149, 1.4869]],\n",
              "\n",
              "        [[1.4844, 1.0048, 1.2077, 1.1472],\n",
              "         [1.1491, 0.8040, 0.9753, 1.2731],\n",
              "         [1.2795, 1.0326, 0.8174, 1.1250],\n",
              "         [1.7775, 1.2752, 1.0923, 1.7114]]])"
            ]
          },
          "metadata": {
            "tags": []
          },
          "execution_count": 42
        }
      ]
    },
    {
      "cell_type": "markdown",
      "metadata": {
        "id": "pyzYx-mot6kQ"
      },
      "source": [
        "Exercise 8.\n",
        "\n",
        "Return the batch matrix-matrix product of a 3D matrix and a 2D matrix (a=torch.rand(3,4,5), b=torch.rand(5,4))."
      ]
    },
    {
      "cell_type": "code",
      "metadata": {
        "id": "Cx9kXtelt4kQ"
      },
      "source": [
        "a = torch.rand(3,4,5)\n",
        "b = torch.rand(5,4)"
      ],
      "execution_count": 43,
      "outputs": []
    },
    {
      "cell_type": "code",
      "metadata": {
        "colab": {
          "base_uri": "https://localhost:8080/"
        },
        "id": "_uauUd6juMWU",
        "outputId": "1b0cacaf-0318-4715-e798-52eb7e94dcfc"
      },
      "source": [
        "b.unsqueeze(dim=1).shape"
      ],
      "execution_count": 47,
      "outputs": [
        {
          "output_type": "execute_result",
          "data": {
            "text/plain": [
              "torch.Size([5, 1, 4])"
            ]
          },
          "metadata": {
            "tags": []
          },
          "execution_count": 47
        }
      ]
    },
    {
      "cell_type": "code",
      "metadata": {
        "colab": {
          "base_uri": "https://localhost:8080/"
        },
        "id": "dAunRz19uNxL",
        "outputId": "36330d28-d3ad-456d-838f-597d77de8c6e"
      },
      "source": [
        "b.unsqueeze(0).shape"
      ],
      "execution_count": 46,
      "outputs": [
        {
          "output_type": "execute_result",
          "data": {
            "text/plain": [
              "torch.Size([1, 5, 4])"
            ]
          },
          "metadata": {
            "tags": []
          },
          "execution_count": 46
        }
      ]
    },
    {
      "cell_type": "code",
      "metadata": {
        "colab": {
          "base_uri": "https://localhost:8080/"
        },
        "id": "kB1y_c7guV9j",
        "outputId": "27e37e27-1dec-4ca3-85c5-bf6ba3055213"
      },
      "source": [
        "a.size(0)"
      ],
      "execution_count": 48,
      "outputs": [
        {
          "output_type": "execute_result",
          "data": {
            "text/plain": [
              "3"
            ]
          },
          "metadata": {
            "tags": []
          },
          "execution_count": 48
        }
      ]
    },
    {
      "cell_type": "code",
      "metadata": {
        "colab": {
          "base_uri": "https://localhost:8080/"
        },
        "id": "fHcvoJeFuhKD",
        "outputId": "6f1707f0-55c0-4a59-c759-896d9f1920bf"
      },
      "source": [
        "b.size()"
      ],
      "execution_count": 49,
      "outputs": [
        {
          "output_type": "execute_result",
          "data": {
            "text/plain": [
              "torch.Size([5, 4])"
            ]
          },
          "metadata": {
            "tags": []
          },
          "execution_count": 49
        }
      ]
    },
    {
      "cell_type": "code",
      "metadata": {
        "colab": {
          "base_uri": "https://localhost:8080/"
        },
        "id": "KihoTBdkuj9J",
        "outputId": "1bb3c12a-98e9-4df1-a0bd-5cbad53a6a65"
      },
      "source": [
        "torch.bmm(a, b.unsqueeze(0).expand(a.size(0), *b.size()))"
      ],
      "execution_count": 53,
      "outputs": [
        {
          "output_type": "execute_result",
          "data": {
            "text/plain": [
              "tensor([[[1.1733, 1.0460, 0.8707, 1.5320],\n",
              "         [0.9014, 1.1270, 0.8334, 1.4052],\n",
              "         [1.5287, 1.3811, 1.2136, 2.2142],\n",
              "         [1.0752, 0.7361, 0.6440, 1.2014]],\n",
              "\n",
              "        [[1.4028, 0.9577, 1.0136, 1.8335],\n",
              "         [0.4700, 0.7468, 0.4653, 0.5482],\n",
              "         [0.7188, 0.8688, 0.8617, 1.2877],\n",
              "         [0.5956, 0.6783, 0.4670, 0.9704]],\n",
              "\n",
              "        [[0.6443, 0.7222, 0.5275, 0.8642],\n",
              "         [1.3420, 1.1216, 0.7918, 1.4022],\n",
              "         [0.4736, 0.4905, 0.3251, 0.7891],\n",
              "         [1.1803, 1.1741, 0.8396, 1.6507]]])"
            ]
          },
          "metadata": {
            "tags": []
          },
          "execution_count": 53
        }
      ]
    },
    {
      "cell_type": "code",
      "metadata": {
        "colab": {
          "base_uri": "https://localhost:8080/"
        },
        "id": "MxCsTO1vulXh",
        "outputId": "06062a68-67ac-4bab-a2f0-9285f3d3fc2b"
      },
      "source": [
        "torch.bmm(a, b.unsqueeze(0).expand(a.size(0), *b.size())).shape"
      ],
      "execution_count": 54,
      "outputs": [
        {
          "output_type": "execute_result",
          "data": {
            "text/plain": [
              "torch.Size([3, 4, 4])"
            ]
          },
          "metadata": {
            "tags": []
          },
          "execution_count": 54
        }
      ]
    },
    {
      "cell_type": "code",
      "metadata": {
        "id": "V78nCV6OvIt3"
      },
      "source": [
        ""
      ],
      "execution_count": null,
      "outputs": []
    }
  ]
}